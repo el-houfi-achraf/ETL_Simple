{
 "cells": [
  {
   "cell_type": "markdown",
   "id": "ded52fd2",
   "metadata": {},
   "source": [
    "# EXTRACT DATA FROM DB AND LOAD IT INTO DWH"
   ]
  },
  {
   "cell_type": "markdown",
   "id": "318a257d",
   "metadata": {},
   "source": [
    "Create connection to the datasource\n",
    ",Read data from DB source\n",
    ",Load it into Variable\n",
    ",Create connection to destination with engine that load data into\n",
    ",load into sql"
   ]
  },
  {
   "cell_type": "markdown",
   "id": "5687ed28",
   "metadata": {},
   "source": [
    "# Install MySQL connector for Python"
   ]
  },
  {
   "cell_type": "code",
   "execution_count": null,
   "id": "66a5b43f",
   "metadata": {},
   "outputs": [],
   "source": [
    "pip install mysql-connector-python "
   ]
  },
  {
   "cell_type": "markdown",
   "id": "54d18ee3",
   "metadata": {},
   "source": [
    "# Install ODBC driver for SQL Server"
   ]
  },
  {
   "cell_type": "code",
   "execution_count": null,
   "id": "59a8dcbb",
   "metadata": {},
   "outputs": [],
   "source": [
    "pip install pyodbc "
   ]
  },
  {
   "cell_type": "markdown",
   "id": "a21c6599",
   "metadata": {},
   "source": [
    "# Install SQLAlchemy for database interaction"
   ]
  },
  {
   "cell_type": "code",
   "execution_count": null,
   "id": "0147ed63",
   "metadata": {},
   "outputs": [],
   "source": [
    "pip install sqlalchemy "
   ]
  },
  {
   "cell_type": "code",
   "execution_count": null,
   "id": "29a3fa72",
   "metadata": {},
   "outputs": [],
   "source": [
    "## for accessing and reading data from sql db\n",
    "import pyodbc\n",
    "import pandas as pd\n",
    "import os\n",
    "import mysql.connector"
   ]
  },
  {
   "cell_type": "code",
   "execution_count": null,
   "id": "26ad2820",
   "metadata": {},
   "outputs": [],
   "source": [
    "pyodbc.drivers()"
   ]
  },
  {
   "cell_type": "code",
   "execution_count": null,
   "id": "2c43b564",
   "metadata": {},
   "outputs": [],
   "source": [
    "#### Mysql , sql server, oracle, postgresql, sqlite, mariadb, etc.\n",
    "from mysql.connector import Error\n",
    "try:\n",
    "    conn = mysql.connector.connect(\n",
    "        host='localhost',\n",
    "        user='root',  \n",
    "        password='',  \n",
    "        database='sales_management',\n",
    "        port=3306\n",
    "    )\n",
    "    print(\"Connection successful\")\n",
    "    \n",
    "except Error as e:\n",
    "    print(f\"Erreur de connexion MySQL: {e}\")"
   ]
  },
  {
   "cell_type": "code",
   "execution_count": null,
   "id": "8d0de86e",
   "metadata": {},
   "outputs": [],
   "source": [
    "cursor = conn.cursor()\n",
    "cursor.execute(\"SELECT * FROM orders\")\n",
    "for row in cursor.fetchall():\n",
    "    print(row)"
   ]
  },
  {
   "cell_type": "code",
   "execution_count": null,
   "id": "7f30ab48",
   "metadata": {},
   "outputs": [],
   "source": [
    "#read orders table\n",
    "query = \"SELECT * FROM orders\"\n",
    "orders = pd.read_sql(query, conn)\n",
    "orders"
   ]
  },
  {
   "cell_type": "code",
   "execution_count": null,
   "id": "4642b3c2",
   "metadata": {},
   "outputs": [],
   "source": [
    "orders.head()"
   ]
  },
  {
   "cell_type": "code",
   "execution_count": null,
   "id": "c173439c",
   "metadata": {},
   "outputs": [],
   "source": [
    "#read customers table\n",
    "query = \"SELECT * FROM customers\"\n",
    "customers = pd.read_sql(query, conn)\n",
    "customers"
   ]
  },
  {
   "cell_type": "code",
   "execution_count": null,
   "id": "8790e95e",
   "metadata": {},
   "outputs": [],
   "source": [
    "customers.head()"
   ]
  },
  {
   "cell_type": "code",
   "execution_count": null,
   "id": "9d9f22a5",
   "metadata": {},
   "outputs": [],
   "source": [
    "#read payments table\n",
    "query = \"SELECT * FROM payments\"\n",
    "payments = pd.read_sql(query, conn)\n",
    "payments"
   ]
  },
  {
   "cell_type": "code",
   "execution_count": null,
   "id": "709b5df8",
   "metadata": {},
   "outputs": [],
   "source": [
    "payments.head()"
   ]
  },
  {
   "cell_type": "code",
   "execution_count": null,
   "id": "a85e62e7",
   "metadata": {},
   "outputs": [],
   "source": [
    "# Tansformation\n",
    "try:\n",
    "    \n",
    "    # 1. cleaning data\n",
    "    orders_clean = orders.dropna()  #delete rows with NaN values\n",
    "    orders_clean['order_date'] = pd.to_datetime(orders_clean['order_date'])  # Convert to datetime\n",
    "    print(f\"Orders nettoyées: {len(orders_clean)} lignes\")\n",
    "    \n",
    "    # 2. Agregation \n",
    "    sales_summary = orders_clean.groupby('customer_id').agg({\n",
    "        'total_amount': ['sum', 'count', 'mean']\n",
    "    }).round(2)\n",
    "    print(\"Agrégation sales_summary créée\")\n",
    "    \n",
    "    # 3. join customers with orders\n",
    "    orders_with_customers = orders_clean.merge(\n",
    "        customers, \n",
    "        on='customer_id',  \n",
    "        how='left'\n",
    "    )\n",
    "    print(f\"Jointure réussie: {len(orders_with_customers)} lignes\")\n",
    "    \n",
    "    # 4. temporal enrichment\n",
    "    orders_with_customers['order_year'] = orders_with_customers['order_date'].dt.year\n",
    "    orders_with_customers['order_month'] = orders_with_customers['order_date'].dt.month\n",
    "    \n",
    "except Exception as e:\n",
    "    print(f\" Erreur : {e}\")\n",
    "    print(\"Orders:\", orders.columns.tolist() if 'orders' in locals() else \"Not defined\")\n",
    "    print(\"Customers:\", customers.columns.tolist() if 'customers' in locals() else \"Not defined\")"
   ]
  },
  {
   "cell_type": "code",
   "execution_count": null,
   "id": "8b476a12",
   "metadata": {},
   "outputs": [],
   "source": [
    "from sqlalchemy import create_engine, text\n",
    "\n",
    "# First, connect to MySQL and create the DWH database if it doesn't exist\n",
    "engine_tmp = create_engine('mysql+mysqlconnector://root:@localhost:3306/')\n",
    "with engine_tmp.connect() as conn_tmp:\n",
    "\tconn_tmp.execute(text(\"CREATE DATABASE IF NOT EXISTS dwh_sales_management\"))\n",
    "\n",
    "# Now connect to the DWH database\n",
    "engine_dwh = create_engine('mysql+mysqlconnector://root:@localhost:3306/dwh_sales_management')\n",
    "conn_dwh = engine_dwh.connect()\n",
    "print(\"Connexion DWH réussie\")"
   ]
  },
  {
   "cell_type": "code",
   "execution_count": null,
   "id": "d49ce33c",
   "metadata": {},
   "outputs": [],
   "source": [
    "# load in DWH\n",
    "try:\n",
    "    # load orders in DWH\n",
    "    orders.to_sql(\n",
    "        name='dim_orders',          \n",
    "        con=engine_dwh,             \n",
    "        if_exists='replace',       \n",
    "        index=False,                 \n",
    "        method='multi'               \n",
    "    )\n",
    "    \n",
    "    # load customers in DWH\n",
    "    customers.to_sql(\n",
    "        name='dim_customers',\n",
    "        con=engine_dwh,\n",
    "        if_exists='replace',\n",
    "        index=False,\n",
    "        method='multi'\n",
    "    )\n",
    "    \n",
    "    # load payments in DWH\n",
    "    payments.to_sql(\n",
    "        name='dim_payments',\n",
    "        con=engine_dwh,\n",
    "        if_exists='replace',\n",
    "        index=False,\n",
    "        method='multi'\n",
    "    )\n",
    "\n",
    "    sales_summary.to_sql('fact_sales_summary', engine_dwh, if_exists='replace')\n",
    "    orders_with_customers.to_sql('fact_orders_enriched', engine_dwh, if_exists='replace')\n",
    "    \n",
    "    print(\"Chargement DWH terminé:\")\n",
    "    print(\"   - dim_orders créée\")\n",
    "    print(\"   - dim_customers créée\") \n",
    "    print(\"   - dim_payments créée\")\n",
    "    \n",
    "except Exception as e:\n",
    "    print(f\"Erreur : {e}\")"
   ]
  },
  {
   "cell_type": "code",
   "execution_count": null,
   "id": "83e87386",
   "metadata": {},
   "outputs": [],
   "source": [
    "# FINAL EXPORT AND VERIFICATION\n",
    "try:\n",
    "    # Ensure DWH engine is active\n",
    "    if 'engine_dwh' not in locals():\n",
    "        engine_dwh = create_engine('mysql+mysqlconnector://root:@localhost:3306/dwh_sales_management')\n",
    "    \n",
    "    # Export transformed data to DWH\n",
    "    if 'sales_summary' in locals():\n",
    "        sales_summary.to_sql('sales_summary', engine_dwh, if_exists='replace', index=False)\n",
    "        print(\"sales_summary exported to DWH\")\n",
    "    \n",
    "    if 'orders_clean' in locals():\n",
    "        orders_clean.to_sql('orders_clean', engine_dwh, if_exists='replace', index=False)\n",
    "        print(\"orders_clean exported to DWH\")\n",
    "        \n",
    "        # Export CSV \n",
    "        orders_clean.to_csv('orders_clean.csv', index=False)\n",
    "        print(\"orders_clean.csv created\")\n",
    "    \n",
    "    # Final DWH verification\n",
    "    with engine_dwh.connect() as conn_check:\n",
    "        result = conn_check.execute(text(\"SHOW TABLES\"))\n",
    "        tables = [row[0] for row in result.fetchall()]\n",
    "        \n",
    "        print(f\"\\nDWH created successfully! Available tables ({len(tables)}):\")\n",
    "        for table in tables:\n",
    "            # Count rows in each table\n",
    "            count_result = conn_check.execute(text(f\"SELECT COUNT(*) FROM {table}\"))\n",
    "            count = count_result.fetchone()[0]\n",
    "            print(f\"   - {table}: {count} rows\")\n",
    "    \n",
    "    # Proper connection cleanup\n",
    "    if 'engine_dwh' in locals():\n",
    "        engine_dwh.dispose()\n",
    "        print(\"\\nDWH connection closed\")\n",
    "    \n",
    "    if 'conn' in locals() and conn.is_connected():\n",
    "        conn.close()\n",
    "        print(\"Source connection closed\")\n",
    "    \n",
    "    print(\"\\nETL PROCESS COMPLETED SUCCESSFULLY!\")\n",
    "    \n",
    "except Exception as e:\n",
    "    print(f\"Final export error: {e}\")\n",
    "    import traceback\n",
    "    traceback.print_exc()"
   ]
  }
 ],
 "metadata": {
  "kernelspec": {
   "display_name": "Python 3",
   "language": "python",
   "name": "python3"
  },
  "language_info": {
   "codemirror_mode": {
    "name": "ipython",
    "version": 3
   },
   "file_extension": ".py",
   "mimetype": "text/x-python",
   "name": "python",
   "nbconvert_exporter": "python",
   "pygments_lexer": "ipython3",
   "version": "3.10.9"
  }
 },
 "nbformat": 4,
 "nbformat_minor": 5
}
